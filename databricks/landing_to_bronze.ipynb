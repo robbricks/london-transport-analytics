{
 "cells": [
  {
   "cell_type": "code",
   "execution_count": 0,
   "metadata": {
    "application/vnd.databricks.v1+cell": {
     "cellMetadata": {
      "byteLimit": 2048000,
      "rowLimit": 10000
     },
     "inputWidgets": {},
     "nuid": "817ab780-2ff1-486b-8a7e-73c0684a2c63",
     "showTitle": false,
     "tableResultSettingsMap": {},
     "title": ""
    }
   },
   "outputs": [],
   "source": [
    "import dlt\n",
    "import json\n",
    "from pyspark.sql.functions import from_json, expr, lit, col, to_timestamp, regexp_extract, input_file_name\n",
    "from pyspark.sql.types import StructType, StructField, StringType, ArrayType"
   ]
  },
  {
   "cell_type": "code",
   "execution_count": 0,
   "metadata": {
    "application/vnd.databricks.v1+cell": {
     "cellMetadata": {},
     "inputWidgets": {},
     "nuid": "51a7a644-c94b-4b00-8e99-c8fffbfb878d",
     "showTitle": false,
     "tableResultSettingsMap": {},
     "title": ""
    }
   },
   "outputs": [],
   "source": [
    "# Assign pipeline parameters to variables\n",
    "catalog_name = spark.conf.get(\"catalog_name\")\n",
    "schema_name = spark.conf.get(\"schema_name\")\n",
    "landing_volume_name = spark.conf.get(\"landing_volume_name\")"
   ]
  },
  {
   "cell_type": "code",
   "execution_count": 0,
   "metadata": {
    "application/vnd.databricks.v1+cell": {
     "cellMetadata": {},
     "inputWidgets": {},
     "nuid": "cb89692d-a31b-4170-9af0-c276b3322990",
     "showTitle": false,
     "tableResultSettingsMap": {},
     "title": ""
    }
   },
   "outputs": [],
   "source": [
    "# Define variables\n",
    "directory_name = \"bike_point\"\n",
    "source_volume = f\"/Volumes/{catalog_name}/{schema_name}/{landing_volume_name}/{directory_name}/\""
   ]
  },
  {
   "cell_type": "code",
   "execution_count": 0,
   "metadata": {
    "application/vnd.databricks.v1+cell": {
     "cellMetadata": {},
     "inputWidgets": {},
     "nuid": "40f680d1-3581-40cf-bc78-17d0ebc8cb63",
     "showTitle": false,
     "tableResultSettingsMap": {},
     "title": ""
    }
   },
   "outputs": [],
   "source": [
    "@dlt.table(\n",
    "  comment=\"Loads bike point JSON files from landing into bronze\"\n",
    ")\n",
    "def bronze_bike_point():\n",
    "  df = (spark.readStream\n",
    "        .format(\"cloudFiles\")\n",
    "        .option(\"cloudFiles.format\", \"json\")\n",
    "        .option(\"inferSchema\", \"true\")\n",
    "        .option(\"header\", \"true\")\n",
    "        .load(source_volume)\n",
    "  )\n",
    "  \n",
    "  # Add audit information to the table\n",
    "  df = (\n",
    "    df.withColumn(\"source_system\", lit(\"tfl_api\"))\n",
    "    .withColumn(\"source_file\", col(\"_metadata.file_name\"))\n",
    "    .withColumn(\"ingestion_user\", expr(\"CURRENT_USER()\"))\n",
    "    .withColumn(\"landing_timestamp\", col(\"_metadata.file_modification_time\"))\n",
    "    .withColumn(\"bronze_timestamp\", expr(\"CURRENT_TIMESTAMP()\"))\n",
    "  )\n",
    "  return df"
   ]
  }
 ],
 "metadata": {
  "application/vnd.databricks.v1+notebook": {
   "computePreferences": null,
   "dashboards": [],
   "environmentMetadata": {
    "base_environment": "",
    "environment_version": "2"
   },
   "inputWidgetPreferences": null,
   "language": "python",
   "notebookMetadata": {
    "pythonIndentUnit": 2
   },
   "notebookName": "landing_to_bronze",
   "widgets": {}
  },
  "language_info": {
   "name": "python"
  }
 },
 "nbformat": 4,
 "nbformat_minor": 0
}
