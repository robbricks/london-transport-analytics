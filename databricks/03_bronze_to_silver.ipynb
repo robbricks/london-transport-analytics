{
 "cells": [
  {
   "cell_type": "code",
   "execution_count": 0,
   "metadata": {
    "application/vnd.databricks.v1+cell": {
     "cellMetadata": {
      "byteLimit": 2048000,
      "rowLimit": 10000
     },
     "inputWidgets": {},
     "nuid": "35ea940a-b98c-4415-9e33-ff1ce80c83eb",
     "showTitle": false,
     "tableResultSettingsMap": {},
     "title": ""
    }
   },
   "outputs": [],
   "source": [
    "import dlt\n",
    "import json\n",
    "from pyspark.sql.functions import from_json, expr, lit, col, to_timestamp, regexp_extract, input_file_name\n",
    "from pyspark.sql.types import StructType, StructField, StringType, ArrayType, BooleanType, IntegerType, DateType"
   ]
  },
  {
   "cell_type": "code",
   "execution_count": 0,
   "metadata": {
    "application/vnd.databricks.v1+cell": {
     "cellMetadata": {},
     "inputWidgets": {},
     "nuid": "432b72d0-e0fd-4c69-a901-56eec881cb40",
     "showTitle": false,
     "tableResultSettingsMap": {},
     "title": ""
    }
   },
   "outputs": [],
   "source": [
    "catalog_name = spark.conf.get(\"catalog_name\")\n",
    "schema_name = spark.conf.get(\"schema_name\")\n",
    "landing_volume_name = spark.conf.get(\"landing_volume_name\")"
   ]
  },
  {
   "cell_type": "code",
   "execution_count": 0,
   "metadata": {
    "application/vnd.databricks.v1+cell": {
     "cellMetadata": {},
     "inputWidgets": {},
     "nuid": "9d355027-7cb7-4c73-a235-2255d74f21a4",
     "showTitle": false,
     "tableResultSettingsMap": {},
     "title": ""
    }
   },
   "outputs": [],
   "source": [
    "@dlt.table(\n",
    "  name=\"silver_bike_point\",\n",
    "  comment=\"Clean bike point data from bronze and load into bronze\",\n",
    "  table_properties={\n",
    "    \"quality\": \"silver\"\n",
    "  }\n",
    ")\n",
    "\n",
    "@dlt.expect_all({\n",
    "  \"Positive bike count\": \"bike_count >= 0\",\n",
    "  \"Positive empty dock count\": \"empty_dock_count >= 0\",\n",
    "  \"Positive dock count\": \"dock_count >= 0\"\n",
    "})\n",
    "\n",
    "@dlt.expect_all_or_drop({\n",
    "  \"Key column is not null\": \"bikepoint_id IS NOT NULL\",\n",
    "  \"Bike station is not remove\": \"removal_date IS NULL\"\n",
    "})\n",
    "\n",
    "def silver_bike_point():\n",
    "  df = spark.readStream.table(\"bronze_bike_point\")\n",
    "\n",
    "  additional_properties_schema = ArrayType(\n",
    "      StructType([\n",
    "          StructField(\"key\", StringType(), True),\n",
    "          StructField(\"value\", StringType(), True)\n",
    "      ])\n",
    "  )\n",
    "\n",
    "  df = df.withColumn(\n",
    "    \"additionalProperties\",\n",
    "    from_json(col(\"additionalProperties\"), additional_properties_schema)\n",
    "  )\n",
    "\n",
    "  # Define fields to extract from JSON\n",
    "  fields_to_extract = [\n",
    "      \"TerminalName\",\n",
    "      \"Installed\",\n",
    "      \"Locked\",\n",
    "      \"InstallDate\",\n",
    "      \"RemovalDate\",\n",
    "      \"Temporary\",\n",
    "      \"NbBikes\",\n",
    "      \"NbEmptyDocks\",\n",
    "      \"NbDocks\",\n",
    "      \"NbStandardBikes\",\n",
    "      \"NbEBikes\"\n",
    "  ]\n",
    "\n",
    "  # Define expressions for extraction from JSON\n",
    "  expressions_extract = [\n",
    "    f\"filter(additionalProperties, x -> x.key = '{field}')[0].value as {field}\"\n",
    "    for field in fields_to_extract\n",
    "  ]\n",
    "\n",
    "  # Extract specified fields from JSON\n",
    "  df = df.selectExpr(\"*\", *expressions_extract)\n",
    "\n",
    "  # Map each field to a Spark expression\n",
    "  for field in fields_to_extract:\n",
    "    df = df.withColumn(\n",
    "        field,\n",
    "        expr(f\"filter(additionalProperties, x -> x.key = '{field}')[0].value as {field}\")\n",
    "    )\n",
    "\n",
    "  # Define columns to keep, their column names, and data types\n",
    "  fields_to_rename = {\n",
    "    \"id\": (\"bikepoint_id\", \"string\"),\n",
    "    \"commonName\": (\"bikepoint_name\", \"string\"),\n",
    "    \"lat\": (\"bikepoint_latitude\", \"double\"),\n",
    "    \"lon\": (\"bikepoint_longitude\", \"double\"),\n",
    "    \"TerminalName\": (\"terminal_name\", \"int\"),\n",
    "    \"Installed\": (\"installed\", \"boolean\"),\n",
    "    \"Locked\": (\"locked\", \"boolean\"),\n",
    "    \"InstallDate\": (\"install_date\", \"date\"),\n",
    "    \"RemovalDate\": (\"removal_date\", \"date\"),\n",
    "    \"Temporary\": (\"temporary\", \"boolean\"),\n",
    "    \"NbBikes\": (\"bike_count\", \"int\"),\n",
    "    \"NbEmptyDocks\": (\"empty_dock_count\", \"int\"),\n",
    "    \"NbDocks\": (\"dock_count\", \"int\"),\n",
    "    \"NbStandardBikes\": (\"standard_bike_count\", \"int\"),\n",
    "    \"NbEBikes\": (\"ebike_count\", \"int\"),\n",
    "    \"source_system\": (\"source_system\", \"string\"),\n",
    "    \"source_file\": (\"source_file\", \"string\"),\n",
    "    \"ingestion_user\": (\"ingestion_user\", \"string\"),\n",
    "    \"landing_timestamp\": (\"landing_timestamp\", \"timestamp\"),\n",
    "    \"bronze_timestamp\": (\"bronze_timestamp\", \"timestamp\"),\n",
    "  }\n",
    "\n",
    "  # Define expression to filter, rename, and cast columns\n",
    "  expressions_rename = [\n",
    "    f\"{old_name}::{new_type} as {new_name}\"\n",
    "    for old_name, (new_name, new_type) in fields_to_rename.items()\n",
    "  ]\n",
    "\n",
    "  # Filter and rename dataframe\n",
    "  df = df.selectExpr(\n",
    "    [*expressions_rename]\n",
    "  )\n",
    "\n",
    "  # Add audit information to the table\n",
    "  df = (\n",
    "    df.withColumn(\"silver_timestamp\", expr(\"CURRENT_TIMESTAMP()\"))\n",
    "  )\n",
    "  return(df)"
   ]
  }
 ],
 "metadata": {
  "application/vnd.databricks.v1+notebook": {
   "computePreferences": null,
   "dashboards": [],
   "environmentMetadata": {
    "base_environment": "",
    "environment_version": "2"
   },
   "inputWidgetPreferences": null,
   "language": "python",
   "notebookMetadata": {
    "pythonIndentUnit": 2
   },
   "notebookName": "03_bronze_to_silver",
   "widgets": {}
  },
  "language_info": {
   "name": "python"
  }
 },
 "nbformat": 4,
 "nbformat_minor": 0
}
