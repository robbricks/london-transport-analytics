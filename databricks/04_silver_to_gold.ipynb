{
 "cells": [
  {
   "cell_type": "code",
   "execution_count": 0,
   "metadata": {
    "application/vnd.databricks.v1+cell": {
     "cellMetadata": {
      "byteLimit": 2048000,
      "rowLimit": 10000
     },
     "inputWidgets": {},
     "nuid": "f8b12aa8-4bf3-486f-8fb7-e7d4d384cc32",
     "showTitle": false,
     "tableResultSettingsMap": {},
     "title": ""
    }
   },
   "outputs": [],
   "source": [
    "import dlt\n",
    "from pyspark.sql.functions import (\n",
    "    year, month, dayofmonth, dayofweek, weekofyear, dayofyear, \n",
    "    date_format, last_day, datediff, expr, concat, col, lit, lpad, \n",
    "    when, quarter, first, row_number\n",
    ")\n",
    "from pyspark.sql.types import BooleanType, StringType, IntegerType\n",
    "from pyspark.sql.window import Window"
   ]
  },
  {
   "cell_type": "code",
   "execution_count": 0,
   "metadata": {
    "application/vnd.databricks.v1+cell": {
     "cellMetadata": {},
     "inputWidgets": {},
     "nuid": "e74ca029-5e89-4036-bb8e-0113548c84cc",
     "showTitle": false,
     "tableResultSettingsMap": {},
     "title": ""
    }
   },
   "outputs": [],
   "source": [
    "catalog_name = spark.conf.get(\"catalog_name\")\n",
    "schema_name = spark.conf.get(\"schema_name\")\n",
    "landing_volume_name = spark.conf.get(\"landing_volume_name\")"
   ]
  },
  {
   "cell_type": "markdown",
   "metadata": {
    "application/vnd.databricks.v1+cell": {
     "cellMetadata": {},
     "inputWidgets": {},
     "nuid": "158e504c-43b0-4f62-b62b-6e6283da0a3d",
     "showTitle": false,
     "tableResultSettingsMap": {},
     "title": ""
    }
   },
   "source": [
    "## Dim Date"
   ]
  },
  {
   "cell_type": "code",
   "execution_count": 0,
   "metadata": {
    "application/vnd.databricks.v1+cell": {
     "cellMetadata": {
      "byteLimit": 2048000,
      "rowLimit": 10000
     },
     "inputWidgets": {},
     "nuid": "90a562bf-547c-4312-a098-2ca59321da2b",
     "showTitle": false,
     "tableResultSettingsMap": {},
     "title": ""
    }
   },
   "outputs": [],
   "source": [
    "\n",
    "@dlt.table(\n",
    "    name=\"gold_dim_date\",\n",
    "    comment=\"Dimension table for date\",\n",
    ")\n",
    "def gold_dim_date():\n",
    "    # Create base date range\n",
    "    df = spark.sql(\n",
    "        \"SELECT explode(sequence(to_date('2023-01-01'), to_date('2023-01-31'), interval 1 day)) as date\"\n",
    "    )\n",
    "    # Create dim_date dataframe with all the relevant columns\n",
    "    df = (df\n",
    "        .withColumn(\"date_key\", date_format(\"date\", \"yyyyMMdd\").cast(IntegerType()))\n",
    "        .withColumn(\"year\", year(\"date\"))\n",
    "        .withColumn(\"month_num\", month(\"date\"))\n",
    "        .withColumn(\"day_num\", dayofmonth(\"date\"))\n",
    "        .withColumn(\"day_of_week\", dayofweek(\"date\"))\n",
    "        .withColumn(\"week_of_year\", weekofyear(\"date\"))\n",
    "        .withColumn(\"day_of_year\", dayofyear(\"date\"))\n",
    "        .withColumn(\"month_name\", date_format(\"date\", \"MMMM\"))\n",
    "        .withColumn(\"month_short_name\", date_format(\"date\", \"MMM\"))\n",
    "        .withColumn(\"day_name\", date_format(\"date\", \"EEEE\"))\n",
    "        .withColumn(\"day_short_name\", date_format(\"date\", \"EEE\"))\n",
    "        .withColumn(\"quarter\", quarter(\"date\"))\n",
    "        .withColumn(\"year_month\", date_format(\"date\", \"yyyy-MM\"))\n",
    "        .withColumn(\"year_month_num\", date_format(\"date\", \"yyyyMM\"))\n",
    "        .withColumn(\"last_day_of_month\", last_day(\"date\"))\n",
    "        .withColumn(\"first_day_of_month\", expr(\"trunc(date, 'MM')\"))\n",
    "        .withColumn(\"day_of_month\", datediff(\"date\", expr(\"trunc(date, 'MM')\")) + 1)\n",
    "        .withColumn(\"is_weekend\", when(dayofweek(\"date\").isin(1, 7), lit(True)).otherwise(lit(False)))\n",
    "        .withColumn(\"is_weekday\", when(dayofweek(\"date\").isin(1, 7), lit(False)).otherwise(lit(True)))\n",
    "        .withColumn(\"season\", when(month(\"date\").isin(3, 4, 5), lit(\"Spring\"))\n",
    "                        .when(month(\"date\").isin(6, 7, 8), lit(\"Summer\"))\n",
    "                        .when(month(\"date\").isin(9, 10, 11), lit(\"Fall\"))\n",
    "                        .otherwise(lit(\"Winter\")))\n",
    "        .withColumn(\"year_str\", col(\"year\").cast(StringType()))\n",
    "        .withColumn(\"month_str\", lpad(col(\"month_num\").cast(StringType()), 2, \"0\"))\n",
    "        .withColumn(\"day_str\", lpad(col(\"day_num\").cast(StringType()), 2, \"0\"))\n",
    "        .withColumn(\"date_key\", concat(\"year_str\", \"month_str\", \"day_str\"))\n",
    "        .drop(\"year_str\", \"month_str\", \"day_str\")\n",
    "    )\n",
    "    return df"
   ]
  },
  {
   "cell_type": "markdown",
   "metadata": {
    "application/vnd.databricks.v1+cell": {
     "cellMetadata": {},
     "inputWidgets": {},
     "nuid": "9a3f7ceb-60ca-4207-8e09-897716e6dcce",
     "showTitle": false,
     "tableResultSettingsMap": {},
     "title": ""
    }
   },
   "source": [
    "## Dim Bikepoint\n"
   ]
  },
  {
   "cell_type": "code",
   "execution_count": 0,
   "metadata": {
    "application/vnd.databricks.v1+cell": {
     "cellMetadata": {},
     "inputWidgets": {},
     "nuid": "2e7e3abd-760d-4faa-9396-afc8125fafeb",
     "showTitle": false,
     "tableResultSettingsMap": {},
     "title": ""
    }
   },
   "outputs": [],
   "source": [
    "@dlt.table(name=\"gold_dim_bikepoint\")\n",
    "def create_gold_dim_bikepoint():\n",
    "    df = spark.read.table(\"robin_huebner.tfl_analytics.silver_bike_point\")\n",
    "    window_spec = Window.partitionBy(\"bikepoint_id\").orderBy(col(\"landing_timestamp\").desc())\n",
    "    ranked_df = df.withColumn(\"row_number\", row_number().over(window_spec))\n",
    "    return ranked_df.filter(col(\"row_number\") == 1)"
   ]
  },
  {
   "cell_type": "code",
   "execution_count": 0,
   "metadata": {
    "application/vnd.databricks.v1+cell": {
     "cellMetadata": {},
     "inputWidgets": {},
     "nuid": "bd4e2167-ed79-4405-926b-cbcebe82dd0a",
     "showTitle": false,
     "tableResultSettingsMap": {},
     "title": ""
    }
   },
   "outputs": [],
   "source": [
    "\n",
    "\n",
    "\n",
    "# @dlt.table(\n",
    "#     name=\"gold_dim_bikepoint\", \n",
    "#     comment=\"Gold dimension of bikepoints\"\n",
    "# )\n",
    "# def gold_dim_bikepoint():\n",
    "#     return dlt.apply_changes_from_snapshot(\n",
    "#         target = \"gold_dim_bikepoint\",\n",
    "#         source = \"silver_dim_bike_point\",\n",
    "#         sequence_by = \"processing_time\",\n",
    "#         keys = [\"bikepoint_id\"],\n",
    "#         stored_as_scd_type = 1\n",
    "# )\n",
    "\n",
    "# @dlt.view(\n",
    "#     name=\"gold_dim_bikepoint_latest\",\n",
    "#     comment=\"Latest bikepoint data based on silver_timestamp\",\n",
    "# )\n",
    "# def gold_dim_bikepoint_latest():\n",
    "#     window_spec = (Window.partitionBy(\"bikepoint_id\").orderBy(col(\"silver_timestamp\").desc()))\n",
    "#     source_df = dlt.read(\"silver_bike_point\")\n",
    "#     source_df = source_df.withColumn(\"row_num\", row_number().over(window_spec))\n",
    "#     source_df = source_df.filter(col(\"row_num\") == 1).drop(\"row_num\")\n",
    "#     return source_df\n",
    "\n",
    "# @dlt.table(\n",
    "#     name=\"gold_dim_bikepoint\", \n",
    "#     comment=\"Batch table for gold dimension of bikepoints\"\n",
    "# )\n",
    "# def gold_dim_bikepoint():\n",
    "#     return dlt.read(\"gold_dim_bikepoint_latest\")\n",
    "\n",
    "# def gold_dim_bikepoint_scd():\n",
    "#         return dlt.apply_changes(\n",
    "#         target=\"gold_dim_bikepoint\",\n",
    "#         source=\"gold_dim_bikepoint_latest\",\n",
    "#         keys=[\"bikepoint_id\"],\n",
    "#         sequence_by=col(\"silver_timestamp\"),\n",
    "#         stored_as_scd_type=1\n",
    "#     )"
   ]
  }
 ],
 "metadata": {
  "application/vnd.databricks.v1+notebook": {
   "computePreferences": null,
   "dashboards": [],
   "environmentMetadata": {
    "base_environment": "",
    "environment_version": "2"
   },
   "inputWidgetPreferences": null,
   "language": "python",
   "notebookMetadata": {
    "pythonIndentUnit": 2
   },
   "notebookName": "04_silver_to_gold",
   "widgets": {}
  },
  "language_info": {
   "name": "python"
  }
 },
 "nbformat": 4,
 "nbformat_minor": 0
}
