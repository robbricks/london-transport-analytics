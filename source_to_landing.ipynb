{
 "cells": [
  {
   "cell_type": "code",
   "execution_count": 0,
   "metadata": {
    "application/vnd.databricks.v1+cell": {
     "cellMetadata": {
      "byteLimit": 2048000,
      "rowLimit": 10000
     },
     "inputWidgets": {},
     "nuid": "7b39e37a-8528-4590-9e41-9cbf8d5c26fe",
     "showTitle": false,
     "tableResultSettingsMap": {},
     "title": ""
    }
   },
   "outputs": [],
   "source": [
    "import requests\n",
    "import json\n",
    "import os\n",
    "from pyspark.sql.functions import from_json, expr, lit\n",
    "from pyspark.sql.types import StructType, StructField, StringType, ArrayType"
   ]
  },
  {
   "cell_type": "markdown",
   "metadata": {
    "application/vnd.databricks.v1+cell": {
     "cellMetadata": {},
     "inputWidgets": {},
     "nuid": "b87ceb7c-68f1-4456-a7c6-24809d1d0295",
     "showTitle": false,
     "tableResultSettingsMap": {},
     "title": ""
    }
   },
   "source": [
    "**Create a Secret Scope and Secret**\n",
    "\n",
    "`\n",
    "databricks secrets create-scope tfl_analytics_scope\n",
    "`\n",
    "\n",
    "`\n",
    "databricks secrets put-secret --json '{\n",
    "  \"scope\": \"tfl_analytics_scope\",\n",
    "  \"key\": \"tfl_app_key\",\n",
    "  \"string_value\": \"xxx\"\n",
    "}'\n",
    "`\n"
   ]
  },
  {
   "cell_type": "code",
   "execution_count": 0,
   "metadata": {
    "application/vnd.databricks.v1+cell": {
     "cellMetadata": {
      "byteLimit": 2048000,
      "rowLimit": 10000
     },
     "inputWidgets": {},
     "nuid": "edc10dd9-75c3-4e42-9763-7552562c73a3",
     "showTitle": false,
     "tableResultSettingsMap": {},
     "title": ""
    }
   },
   "outputs": [],
   "source": [
    "tfl_app_key = dbutils.secrets.get(scope = \"tfl_analytics_scope\", key = \"tfl_app_key\")\n",
    "url = f\"https://api.tfl.gov.uk/BikePoint/?app_key={tfl_app_key}\"\n",
    "\n",
    "apis = [\"BikePoint\", \"Crowding\"]"
   ]
  },
  {
   "cell_type": "code",
   "execution_count": 0,
   "metadata": {
    "application/vnd.databricks.v1+cell": {
     "cellMetadata": {
      "byteLimit": 2048000,
      "implicitDf": true,
      "rowLimit": 10000
     },
     "inputWidgets": {},
     "nuid": "36992522-2381-4c2f-84d6-e90a529ae7cb",
     "showTitle": false,
     "tableResultSettingsMap": {},
     "title": ""
    }
   },
   "outputs": [],
   "source": [
    "%sql\n",
    "CREATE CATALOG IF NOT EXISTS robin_huebner;\n"
   ]
  },
  {
   "cell_type": "code",
   "execution_count": 0,
   "metadata": {
    "application/vnd.databricks.v1+cell": {
     "cellMetadata": {
      "byteLimit": 2048000,
      "implicitDf": true,
      "rowLimit": 10000
     },
     "inputWidgets": {},
     "nuid": "98592ed1-2874-4f5e-95fc-a111dcefd154",
     "showTitle": false,
     "tableResultSettingsMap": {},
     "title": ""
    }
   },
   "outputs": [],
   "source": [
    "%sql\n",
    "CREATE SCHEMA IF NOT EXISTS robin_huebner.tfl_analytics;\n",
    "USE robin_huebner.tfl_analytics;\n",
    "CREATE VOLUME IF NOT EXISTS robin_huebner.tfl_analytics.landing;"
   ]
  },
  {
   "cell_type": "code",
   "execution_count": 0,
   "metadata": {
    "application/vnd.databricks.v1+cell": {
     "cellMetadata": {
      "byteLimit": 2048000,
      "rowLimit": 10000
     },
     "inputWidgets": {},
     "nuid": "74c8b362-9d6d-42e1-9e22-7029769063e1",
     "showTitle": false,
     "tableResultSettingsMap": {},
     "title": ""
    }
   },
   "outputs": [],
   "source": [
    "response = requests.get(url)\n",
    "data = response.json()\n",
    "\n",
    "dbutils.fs.put(\"/Volumes/robin_huebner/tfl_analytics/landing/bike_point/tfl_data.json\", json.dumps(data), overwrite=True)"
   ]
  },
  {
   "cell_type": "code",
   "execution_count": 0,
   "metadata": {
    "application/vnd.databricks.v1+cell": {
     "cellMetadata": {
      "byteLimit": 2048000,
      "rowLimit": 10000
     },
     "inputWidgets": {},
     "nuid": "dc2d8fd8-d4a0-44d6-b0af-afdf8b69cf77",
     "showTitle": false,
     "tableResultSettingsMap": {},
     "title": ""
    }
   },
   "outputs": [],
   "source": [
    "# Load dataframe from volume\n",
    "df = spark.read.json(\"/Volumes/robin_huebner/tfl_analytics/landing/bike_point/tfl_data.json\")\n",
    "\n",
    "# Define fields to extract from JSON\n",
    "fields_to_extract = [\n",
    "    \"TerminalName\",\n",
    "    \"Installed\",\n",
    "    \"Locked\",\n",
    "    \"InstallDate\",\n",
    "    \"RemovalDate\",\n",
    "    \"Temporary\",\n",
    "    \"NbBikes\",\n",
    "    \"NbEmptyDocks\",\n",
    "    \"NbDocks\",\n",
    "    \"NbStandardBikes\",\n",
    "    \"NbEBikes\"\n",
    "]\n",
    "\n",
    "# Define expressions for extraction from JSON\n",
    "expressions_extract = [\n",
    "  f\"filter(additionalProperties, x -> x.key = '{field}')[0].value as {field}\"\n",
    "  for field in fields_to_extract\n",
    "]\n",
    "\n",
    "# Extract specified fields from JSON\n",
    "df = df.selectExpr(\"*\", *expressions_extract)\n",
    "\n",
    "# Define columns to keep and column names\n",
    "fields_to_rename = {\n",
    "  \"id\": \"bikepoint_id\",\n",
    "  \"commonName\": \"bikepoint_name\",\n",
    "  \"lat\": \"bikepoint_latitude\",\n",
    "  \"lon\": \"bikepoint_longitude\",\n",
    "  \"TerminalName\": \"terminal_name\",\n",
    "  \"Installed\": \"installed\",\n",
    "  \"Locked\": \"locked\",\n",
    "  \"InstallDate\": \"install_date\",\n",
    "  \"RemovalDate\": \"removal_date\",\n",
    "  \"Temporary\": \"temporary\",\n",
    "  \"NbBikes\": \"bike_count\",\n",
    "  \"NbEmptyDocks\": \"empty_dock_count\",\n",
    "  \"NbDocks\": \"dock_count\",\n",
    "  \"NbStandardBikes\": \"standard_bike_count\",\n",
    "  \"NbEBikes\": \"ebike_count\",\n",
    "}\n",
    "\n",
    "# Define expression to filter and rename columns\n",
    "expressions_rename = [\n",
    "  f\"{old_name} as {new_name}\"\n",
    "  for old_name, new_name in fields_to_rename.items()\n",
    "]\n",
    "\n",
    "# Filter and rename dataframe\n",
    "df = df.selectExpr(\n",
    "  [*expressions_rename]\n",
    ")\n",
    "\n",
    "# Add audit information to the table\n",
    "df = (\n",
    "  df.withColumn(\"source_system\", lit(\"TFL\"))\n",
    "  .withColumn(\"ingestion_user\", expr(\"CURRENT_USER()\"))\n",
    "  .withColumn(\"ingestion_timestamp\", expr(\"CURRENT_TIMESTAMP()\"))\n",
    ")\n",
    "\n",
    "# Write dataframe to silver\n",
    "df.write.mode(\"append\").saveAsTable(\"silver_tfl_bike_point\")\n",
    "\n",
    "\n",
    "\n",
    "\n",
    "display(df)"
   ]
  },
  {
   "cell_type": "code",
   "execution_count": 0,
   "metadata": {
    "application/vnd.databricks.v1+cell": {
     "cellMetadata": {},
     "inputWidgets": {},
     "nuid": "4997d826-f625-4884-97b8-b9c0be448fc5",
     "showTitle": false,
     "tableResultSettingsMap": {},
     "title": ""
    }
   },
   "outputs": [],
   "source": []
  }
 ],
 "metadata": {
  "application/vnd.databricks.v1+notebook": {
   "computePreferences": null,
   "dashboards": [],
   "environmentMetadata": {
    "base_environment": "",
    "environment_version": "2"
   },
   "inputWidgetPreferences": null,
   "language": "python",
   "notebookMetadata": {
    "mostRecentlyExecutedCommandWithImplicitDF": {
     "commandId": 3952676626285374,
     "dataframes": [
      "_sqldf"
     ]
    },
    "pythonIndentUnit": 2
   },
   "notebookName": "source_to_landing",
   "widgets": {
    "app_key": {
     "currentValue": "",
     "nuid": "aa3b2944-9718-4d73-bec8-e0e2c3960612",
     "typedWidgetInfo": {
      "autoCreated": false,
      "defaultValue": "",
      "label": null,
      "name": "app_key",
      "options": {
       "widgetDisplayType": "Text",
       "validationRegex": null
      },
      "parameterDataType": "String"
     },
     "widgetInfo": {
      "widgetType": "text",
      "defaultValue": "",
      "label": null,
      "name": "app_key",
      "options": {
       "widgetType": "text",
       "autoCreated": false,
       "validationRegex": null
      }
     }
    }
   }
  },
  "language_info": {
   "name": "python"
  }
 },
 "nbformat": 4,
 "nbformat_minor": 0
}
